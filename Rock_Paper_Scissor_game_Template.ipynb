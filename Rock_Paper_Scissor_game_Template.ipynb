{
 "cells": [
  {
   "cell_type": "markdown",
   "metadata": {},
   "source": [
    "### Description \n",
    "> #### In this game, the user gets the first chance to pick the option among Rock, paper and scissors. After that computer select from the remaining two choices(randomly), the winner is decided as per the rules.\n",
    "- Rock vs paper-> paper wins\n",
    "- Rock vs scissor-> Rock wins\n",
    "- paper vs scissor-> scissor wins."
   ]
  },
  {
   "cell_type": "code",
   "execution_count": 36,
   "metadata": {},
   "outputs": [
    {
     "name": "stdout",
     "output_type": "stream",
     "text": [
      "Enter your choice (rock, paper, scissors):  rock\n"
     ]
    },
    {
     "name": "stdout",
     "output_type": "stream",
     "text": [
      "computer choice: scissors\n",
      "You win\n",
      "None\n"
     ]
    }
   ],
   "source": [
    "import random\n",
    "\n",
    "def get_comp_choice(user_choice):\n",
    "    options = ['rock', 'paper', 'scissors']\n",
    "    return random.choice(options)\n",
    "\n",
    "def winner(user_choice, comp_choice):\n",
    "    if user_choice == comp_choice:\n",
    "        print(' its a tie')\n",
    "    elif (user_choice == 'scissors' and comp_choice == 'paper' or user_choice == 'rock' and comp_choice == 'scissors' or \\\n",
    "    user_choice == 'paper' and comp_choice == 'rock'):\n",
    "        print('You win')\n",
    "    else:\n",
    "        print('computer wins')\n",
    "\n",
    "def play():\n",
    "    user_choice = input('Enter your choice (rock, paper, scissors): ').lower()\n",
    "    if user_choice not in ['rock', 'paper', 'scissors']:\n",
    "        print('Invalid input')\n",
    "\n",
    "    computer_choice = get_comp_choice(user_choice)\n",
    "    print(f'computer choice: {computer_choice}')\n",
    "    win = winner(user_choice,computer_choice)\n",
    "    print(win)\n",
    "    \n",
    "play()\n"
   ]
  },
  {
   "cell_type": "code",
   "execution_count": null,
   "metadata": {},
   "outputs": [],
   "source": []
  }
 ],
 "metadata": {
  "kernelspec": {
   "display_name": "Python 3 (ipykernel)",
   "language": "python",
   "name": "python3"
  },
  "language_info": {
   "codemirror_mode": {
    "name": "ipython",
    "version": 3
   },
   "file_extension": ".py",
   "mimetype": "text/x-python",
   "name": "python",
   "nbconvert_exporter": "python",
   "pygments_lexer": "ipython3",
   "version": "3.11.7"
  }
 },
 "nbformat": 4,
 "nbformat_minor": 4
}
